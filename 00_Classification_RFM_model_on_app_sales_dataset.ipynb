{
 "cells": [
  {
   "cell_type": "markdown",
   "id": "d543576a",
   "metadata": {},
   "source": [
    "# Classification RFM model on app sales dataset\n",
    "\n",
    "RFM which stands for **Recency Frequency Monetary Value** is a common approach towards analyzing sales data. In this excercise I'll go through applying this methodology in real app sales data example."
   ]
  },
  {
   "cell_type": "markdown",
   "id": "4f382455",
   "metadata": {},
   "source": [
    "# 1. Download data"
   ]
  },
  {
   "cell_type": "code",
   "execution_count": null,
   "id": "3e1f48b9",
   "metadata": {},
   "outputs": [],
   "source": [
    "# Setup path to a data folder\n",
    "data_path = Path(\"data/\")\n",
    "image_path = data_path / \"food101_extract\"\n",
    "\n",
    "# Create data folder if doesn't exist\n",
    "if image_path.is_dir():\n",
    "  print(f\"{image_path} directory already exists\")\n",
    "else:\n",
    "  image_path.mkdir(parents=True, exist_ok=True)\n",
    "  print(f\"{image_path} directory created\")\n",
    "\n",
    "  # Download food101_extract data\n",
    "  with open(data_path / \"food101_extract.zip\", \"wb\") as f:\n",
    "    request = requests.get(\"https://github.com/slawomirwojtas/ML-Projects/raw/main/food101_extract.zip\")\n",
    "    print(\"Downloading food101_extract data...\")\n",
    "    f.write(request.content)\n",
    "\n",
    "  # Unzip food101_extract data\n",
    "  with zipfile.ZipFile(data_path / \"food101_extract.zip\", \"r\") as zip_ref:\n",
    "    print(\"Unzipping food101_extract data...\")\n",
    "    zip_ref.extractall(image_path)\n",
    "\n",
    "  # Remove .zip file\n",
    "  os.remove(data_path / \"food101_extract.zip\")\n",
    "\n",
    "print(\"Done\")"
   ]
  },
  {
   "cell_type": "code",
   "execution_count": null,
   "id": "bc6b6f7b",
   "metadata": {},
   "outputs": [],
   "source": []
  },
  {
   "cell_type": "code",
   "execution_count": null,
   "id": "3ce352bb",
   "metadata": {},
   "outputs": [],
   "source": []
  }
 ],
 "metadata": {
  "kernelspec": {
   "display_name": "Python 3 (ipykernel)",
   "language": "python",
   "name": "python3"
  },
  "language_info": {
   "codemirror_mode": {
    "name": "ipython",
    "version": 3
   },
   "file_extension": ".py",
   "mimetype": "text/x-python",
   "name": "python",
   "nbconvert_exporter": "python",
   "pygments_lexer": "ipython3",
   "version": "3.10.4"
  }
 },
 "nbformat": 4,
 "nbformat_minor": 5
}
